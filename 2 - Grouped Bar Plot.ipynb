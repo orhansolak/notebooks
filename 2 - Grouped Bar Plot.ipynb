{
 "cells": [
  {
   "cell_type": "code",
   "execution_count": 1,
   "id": "61a795d9",
   "metadata": {},
   "outputs": [],
   "source": [
    "import numpy as np\n",
    "import matplotlib.pyplot as plt\n",
    "from collections import defaultdict\n",
    "%matplotlib inline"
   ]
  },
  {
   "cell_type": "code",
   "execution_count": 2,
   "id": "365922e9",
   "metadata": {},
   "outputs": [],
   "source": [
    "def bar_plot(ax, data, group_stretch=0.8, bar_stretch=0.95,\n",
    "             legend=True, x_labels=True, label_fontsize=8,\n",
    "             colors=None, barlabel_offset=1,\n",
    "             bar_labeler=lambda k, i, s: str(round(s, 3))):\n",
    "    \"\"\"\n",
    "    original version: https://stackoverflow.com/a/69170270/9388050\n",
    "    Draws a bar plot with multiple bars per data point.\n",
    "    \n",
    "    :param dict data             : The data we want to plot, wher keys are the \n",
    "                                   names of each bar group, and items is a list of bar \n",
    "                                   values  for the corresponding group.\n",
    "      \n",
    "    :param float group_stretch   : 1 means groups occupy the most (largest groups\n",
    "                                   touch side to side if they have equal number of bars).\n",
    "      \n",
    "    :param float bar_stretch     : If 1, bars within a group will touch side to side.\n",
    "    \n",
    "    :param bool x_labels         : If true, x-axis will contain labels with the group\n",
    "                                   names given at data, centered at the bar group.\n",
    "      \n",
    "    :param int label_fontsize    : Font size for the label on top of each bar.\n",
    "    \n",
    "    :param float barlabel_offset : Distance, in y-values, between the top of the\n",
    "                                   bar and its label.\n",
    "      \n",
    "    :param function bar_labeler  : If not None, must be a functor with signature\n",
    "                                   ``f(group_name, i, scalar)->str``, where each scalar \n",
    "                                   is the entry found at data[group_name][i]. When given, \n",
    "                                   returns a label to put on the top of each bar. \n",
    "                                   Otherwise no labels on top of bars.\n",
    "    \"\"\"\n",
    "    for i in data.keys():\n",
    "        data[i] = sorted(data[i])\n",
    "\n",
    "    sorted_data = [(k, v) for k, v in data.items()]\n",
    "    sorted_data = sorted(sorted_data)   ## sorting alphabetically\n",
    "    # Printing list of tuple\n",
    "    sorted_k, sorted_v  = zip(*sorted_data)\n",
    "\n",
    "    max_n_bars = max(len(v) for v in data.values())\n",
    "    group_centers = np.cumsum([max_n_bars for _ in sorted_data]) - (max_n_bars / 2)\n",
    "    bar_offset = (1 - bar_stretch) / 2\n",
    "    bars = defaultdict(list)\n",
    "    #\n",
    "    if colors is None:\n",
    "        colors = {g_name: [f\"C{i}\" for _ in values]\n",
    "                  for i, (g_name, values) in enumerate(data.items())}\n",
    "    #\n",
    "    for g_i, ((g_name, vals), g_center) in enumerate(zip(sorted_data,\n",
    "                                                         group_centers)):\n",
    "        n_bars = len(vals)\n",
    "        group_beg = g_center - (n_bars / 2) + (bar_stretch / 2)\n",
    "        for val_i, val in enumerate(vals):\n",
    "            bar = ax.bar(group_beg + val_i + bar_offset,\n",
    "                         height=val, width=bar_stretch,\n",
    "                         color=colors[g_name][val_i])[0]\n",
    "            bars[g_name].append(bar)\n",
    "            if  bar_labeler is not None:\n",
    "                x_pos = bar.get_x() + (bar.get_width() / 2.0)\n",
    "                y_pos = val + barlabel_offset\n",
    "                barlbl = bar_labeler(g_name, val_i, val)\n",
    "                ax.text(x_pos, y_pos, barlbl, ha=\"center\", va=\"bottom\",\n",
    "                        fontsize=label_fontsize)\n",
    "                \n",
    "    ## Graph settings: Legend, axis, label\n",
    "    if legend:\n",
    "        ax.legend([bars[k][0] for k in sorted_k], sorted_k,\n",
    "                  bbox_to_anchor=(1.05,0.65), loc=\"lower right\",  bbox_transform=fig.transFigure,\n",
    "                  prop={'size': 15})\n",
    "    #\n",
    "    ax.set_xticks(group_centers)\n",
    "    if x_labels:\n",
    "        ax.set_xticklabels(sorted_k)\n",
    "    else:\n",
    "        ax.set_xticklabels()\n",
    "        \n",
    "    ## \n",
    "    ax.set_xlabel('Categories',  rotation = 0,  labelpad=10, fontsize = 20)\n",
    "    ax.set_ylabel('Values',      rotation = 45, labelpad=40, fontsize = 17) \n",
    "\n",
    "    ax.tick_params(axis='x', labelsize= 20)\n",
    "    ax.tick_params(axis='y', labelsize= 17)\n",
    "    return bars, group_centers\n",
    "    "
   ]
  },
  {
   "cell_type": "code",
   "execution_count": 3,
   "id": "532c28be",
   "metadata": {},
   "outputs": [
    {
     "data": {
      "text/plain": [
       "(defaultdict(list,\n",
       "             {'Bar': [<matplotlib.patches.Rectangle at 0x17b3cd540a0>,\n",
       "               <matplotlib.patches.Rectangle at 0x17b3cd545b0>,\n",
       "               <matplotlib.patches.Rectangle at 0x17b3cd54a90>,\n",
       "               <matplotlib.patches.Rectangle at 0x17b3cd54f70>,\n",
       "               <matplotlib.patches.Rectangle at 0x17b3cd68490>],\n",
       "              'Foo': [<matplotlib.patches.Rectangle at 0x17b3cd68970>,\n",
       "               <matplotlib.patches.Rectangle at 0x17b3cd68e50>,\n",
       "               <matplotlib.patches.Rectangle at 0x17b3cd75370>,\n",
       "               <matplotlib.patches.Rectangle at 0x17b3cd75850>],\n",
       "              'Quack': [<matplotlib.patches.Rectangle at 0x17b3cd75d30>],\n",
       "              'Zap': [<matplotlib.patches.Rectangle at 0x17b3cd83250>,\n",
       "               <matplotlib.patches.Rectangle at 0x17b3cd83730>]}),\n",
       " array([ 2.5,  7.5, 12.5, 17.5]))"
      ]
     },
     "execution_count": 3,
     "metadata": {},
     "output_type": "execute_result"
    },
    {
     "data": {
      "image/png": "[encoded data removed]",
      "text/plain": [
       "<Figure size 960x480 with 1 Axes>"
      ]
     },
     "metadata": {
      "needs_background": "light"
     },
     "output_type": "display_data"
    }
   ],
   "source": [
    "fig, ax = plt.subplots(figsize=(12, 6), dpi=80)\n",
    "\n",
    "data = {\"Foo\": [4, 2, 3, 1], \"Zap\": [0.5, 0.2], \"Quack\": [6], \"Bar\": [6.6, 2.2, 3.3, 4.4, 5.5]}\n",
    "bar_plot(ax, data, group_stretch   = 0.8,  bar_stretch    = 0.95, legend=True,\n",
    "                   x_labels        = True, label_fontsize = 10, \n",
    "                   barlabel_offset = 0.05, bar_labeler    = lambda k, i, s: str(round(s, 3)))"
   ]
  },
  {
   "cell_type": "code",
   "execution_count": null,
   "id": "4b0df977",
   "metadata": {},
   "outputs": [],
   "source": []
  }
 ],
 "metadata": {
  "kernelspec": {
   "display_name": "Python 3",
   "language": "python",
   "name": "python3"
  },
  "language_info": {
   "codemirror_mode": {
    "name": "ipython",
    "version": 3
   },
   "file_extension": ".py",
   "mimetype": "text/x-python",
   "name": "python",
   "nbconvert_exporter": "python",
   "pygments_lexer": "ipython3",
   "version": "3.8.5"
  }
 },
 "nbformat": 4,
 "nbformat_minor": 5
}
